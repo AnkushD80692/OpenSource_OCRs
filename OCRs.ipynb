{
  "nbformat": 4,
  "nbformat_minor": 0,
  "metadata": {
    "colab": {
      "provenance": []
    },
    "kernelspec": {
      "name": "python3",
      "display_name": "Python 3"
    },
    "language_info": {
      "name": "python"
    }
  },
  "cells": [
    {
      "cell_type": "code",
      "execution_count": null,
      "metadata": {
        "id": "W9Z5UWbvT3x4"
      },
      "outputs": [],
      "source": [
        "# Aim is to understand the outcomes of different opensource OCR and understand their limitations and advantages\n",
        "# TESSERACT OCR ,KERAS OCR, EASY OCR, PADDEL OCR, CRAFT FOR TEXT DETECTION, AWS_OCR, G_OCR/ Google cloud vision, DONUT\n",
        "# We will be checking the outcome on clean text image, clean hand written, blur text image, skewed text image, tabular data"
      ]
    },
    {
      "cell_type": "code",
      "source": [
        "import os\n",
        "import random\n",
        "try:\n",
        " from PIL import Image\n",
        "except ImportError:\n",
        " import Image"
      ],
      "metadata": {
        "id": "UgNjWleUhvxF"
      },
      "execution_count": null,
      "outputs": []
    },
    {
      "cell_type": "markdown",
      "source": [
        "##TESSERACT OCR"
      ],
      "metadata": {
        "id": "dmpqssk4f_Ve"
      }
    },
    {
      "cell_type": "code",
      "source": [
        "# GIT LINK - https://github.com/tesseract-ocr/tesseract\n",
        "# blog post - https://bhadreshpsavani.medium.com/how-to-use-tesseract-library-for-ocr-in-google-colab-notebook-5da5470e4fe0\n",
        "#Tesseract was originally developed at Hewlett-Packard Laboratories Bristol UK and at Hewlett-Packard Co,\n",
        "#Greeley Colorado USA between 1985 and 1994, with some more changes made in 1996 to port to Windows, and\n",
        "#some C++izing in 1998. In 2005 Tesseract was open sourced by HP. From 2006 until November 2018 it was developed by Google.\n",
        "\n",
        " #Installing Pytesseract and tesseract-OCR\n",
        "!sudo apt install tesseract-ocr\n",
        "!pip install pytesseract"
      ],
      "metadata": {
        "colab": {
          "base_uri": "https://localhost:8080/"
        },
        "id": "cEH7brcff9_R",
        "outputId": "65a49f25-c157-4a03-bab9-82e4acc833f2"
      },
      "execution_count": null,
      "outputs": [
        {
          "output_type": "stream",
          "name": "stdout",
          "text": [
            "Reading package lists... Done\n",
            "Building dependency tree... Done\n",
            "Reading state information... Done\n",
            "tesseract-ocr is already the newest version (4.1.1-2.1build1).\n",
            "0 upgraded, 0 newly installed, 0 to remove and 35 not upgraded.\n",
            "Requirement already satisfied: pytesseract in /usr/local/lib/python3.10/dist-packages (0.3.10)\n",
            "Requirement already satisfied: packaging>=21.3 in /usr/local/lib/python3.10/dist-packages (from pytesseract) (23.2)\n",
            "Requirement already satisfied: Pillow>=8.0.0 in /usr/local/lib/python3.10/dist-packages (from pytesseract) (9.4.0)\n"
          ]
        }
      ]
    },
    {
      "cell_type": "code",
      "source": [
        "# taking first page of first chapter of book named MONK WHO SOLD HIS FERRARI\n",
        "GT= \"CHAPTER ONE The Wake-Up Call He collapsed right in the middle of a packed courtroom. He was one of this country's most distinguished trial lawyers. He was also a man who was as well known for the three-thousand-dollar Italian suits which draped his well-fed frame as for his remarkable string of legal victories. I simply stood there, paralyzed by the shock of what I had just witnessed. The great Julian Mantle had been reduced to a victim and was now squirming on the ground like a helpless infant, shaking and shivering and sweating like a maniac. Everything seemed to move in slow motion from that point on.\""
      ],
      "metadata": {
        "id": "z4ldoiGVjsKK"
      },
      "execution_count": null,
      "outputs": []
    },
    {
      "cell_type": "code",
      "source": [
        "import pytesseract\n",
        "image_path_in_colab=\"CLear_plane_text.png\"\n",
        "extractedInformation = pytesseract.image_to_string(Image.open(image_path_in_colab))\n",
        "extractedInformation = extractedInformation.replace('\\n', ' ')\n",
        "print(extractedInformation)"
      ],
      "metadata": {
        "colab": {
          "base_uri": "https://localhost:8080/"
        },
        "id": "cY3H7jK4hUre",
        "outputId": "a894c244-f5e1-4dec-b59d-5c360658cc9c"
      },
      "execution_count": null,
      "outputs": [
        {
          "output_type": "stream",
          "name": "stdout",
          "text": [
            "CHAPTER ONE  The Wake-Up Call  He collapsed right in the middle of a packed courtroom. He was one of this country's most distinguished trial lawyers. He was also a man who was as well known for the three-thousand-dollar Italian suits which draped his well-fed frame as for his remarkable string of legal victories. I simply stood there, paralyzed by the shock of what I had just witnessed. The great Julian Mantle had been reduced to a victim and was now squirming on the ground like a helpless in- fant, shaking and shivering and sweating like a maniac. Everything seemed to move in slow motion from that point on. \f\n"
          ]
        }
      ]
    },
    {
      "cell_type": "code",
      "source": [
        "#Detect Langauge other than English\n",
        "# French text image to string\n",
        "#extractedInformation = pytesseract.image_to_string(Image.open('test-european.jpg'), lang='fra')\n",
        "#print(extractedInformation)\n",
        "#Specifying language in the above function by lang argument we can change the language text to be detected."
      ],
      "metadata": {
        "id": "vUYttXZym0lk"
      },
      "execution_count": null,
      "outputs": []
    },
    {
      "cell_type": "code",
      "source": [
        "print(pytesseract.image_to_boxes(Image.open(image_path_in_colab)))"
      ],
      "metadata": {
        "id": "PueR0Wc_m_aB"
      },
      "execution_count": null,
      "outputs": []
    },
    {
      "cell_type": "code",
      "source": [
        "# IT considered the special symbols,\n",
        "# it is case sensitive as well"
      ],
      "metadata": {
        "id": "elX2FhkvkDaX"
      },
      "execution_count": null,
      "outputs": []
    },
    {
      "cell_type": "code",
      "source": [],
      "metadata": {
        "id": "KQGGMtSIkBVG"
      },
      "execution_count": null,
      "outputs": []
    }
  ]
}