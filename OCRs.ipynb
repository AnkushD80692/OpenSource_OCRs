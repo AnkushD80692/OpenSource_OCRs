{
  "nbformat": 4,
  "nbformat_minor": 0,
  "metadata": {
    "colab": {
      "provenance": []
    },
    "kernelspec": {
      "name": "python3",
      "display_name": "Python 3"
    },
    "language_info": {
      "name": "python"
    }
  },
  "cells": [
    {
      "cell_type": "code",
      "execution_count": 13,
      "metadata": {
        "id": "W9Z5UWbvT3x4"
      },
      "outputs": [],
      "source": [
        "# Aim is to understand the outcomes of different opensource OCR and understand their limitations and advantages\n",
        "# TESSERACT OCR ,\n",
        "# KERAS OCR,\n",
        "# EASY OCR,\n",
        "# PADDEL OCR, DONUT,CRAFT FOR TEXT DETECTION, AWS_OCR, G_OCR/ Google cloud vision\n",
        "# We will be checking the outcome on clean text image, clean hand written, blur text image, skewed text image, tabular data"
      ]
    },
    {
      "cell_type": "code",
      "source": [
        "#https://github.com/jitsi/jiwer\n",
        "#https://pypi.org/project/jiwer/2.5.1/\n",
        "!pip install jiwer"
      ],
      "metadata": {
        "colab": {
          "base_uri": "https://localhost:8080/"
        },
        "id": "7wz545I_0dab",
        "outputId": "f993a3ac-9337-4de1-88d7-f8f2eaf9d918"
      },
      "execution_count": 16,
      "outputs": [
        {
          "output_type": "stream",
          "name": "stdout",
          "text": [
            "Collecting jiwer\n",
            "  Downloading jiwer-3.0.3-py3-none-any.whl (21 kB)\n",
            "Requirement already satisfied: click<9.0.0,>=8.1.3 in /usr/local/lib/python3.10/dist-packages (from jiwer) (8.1.7)\n",
            "Collecting rapidfuzz<4,>=3 (from jiwer)\n",
            "  Downloading rapidfuzz-3.6.1-cp310-cp310-manylinux_2_17_x86_64.manylinux2014_x86_64.whl (3.4 MB)\n",
            "\u001b[2K     \u001b[90m━━━━━━━━━━━━━━━━━━━━━━━━━━━━━━━━━━━━━━━━\u001b[0m \u001b[32m3.4/3.4 MB\u001b[0m \u001b[31m32.1 MB/s\u001b[0m eta \u001b[36m0:00:00\u001b[0m\n",
            "\u001b[?25hInstalling collected packages: rapidfuzz, jiwer\n",
            "Successfully installed jiwer-3.0.3 rapidfuzz-3.6.1\n"
          ]
        }
      ]
    },
    {
      "cell_type": "code",
      "source": [
        "import os\n",
        "import random\n",
        "try:\n",
        " from PIL import Image\n",
        "except ImportError:\n",
        " import Image\n",
        "import matplotlib.pyplot as plt\n",
        "from jiwer import wer,cer"
      ],
      "metadata": {
        "id": "UgNjWleUhvxF"
      },
      "execution_count": 15,
      "outputs": []
    },
    {
      "cell_type": "code",
      "source": [
        "\n",
        "def get_the_error_rate(GT, extraction):\n",
        "  word_error_rate = wer(GT, extraction)\n",
        "  char_error_rate = cer(GT, extraction)\n",
        "\n",
        "  print(\"Word_Error_Rate: \",word_error_rate)\n",
        "  print(\"Char_Error_Rate: \",char_error_rate)"
      ],
      "metadata": {
        "id": "Ck7PCzXg019v"
      },
      "execution_count": 47,
      "outputs": []
    },
    {
      "cell_type": "markdown",
      "source": [
        "##TESSERACT OCR"
      ],
      "metadata": {
        "id": "dmpqssk4f_Ve"
      }
    },
    {
      "cell_type": "code",
      "source": [
        "# GIT LINK - https://github.com/tesseract-ocr/tesseract\n",
        "# blog post - https://bhadreshpsavani.medium.com/how-to-use-tesseract-library-for-ocr-in-google-colab-notebook-5da5470e4fe0\n",
        "#Tesseract was originally developed at Hewlett-Packard Laboratories Bristol UK and at Hewlett-Packard Co,\n",
        "#Greeley Colorado USA between 1985 and 1994, with some more changes made in 1996 to port to Windows, and\n",
        "#some C++izing in 1998. In 2005 Tesseract was open sourced by HP. From 2006 until November 2018 it was developed by Google.\n",
        "\n",
        " #Installing Pytesseract and tesseract-OCR\n",
        "!sudo apt install tesseract-ocr\n",
        "!pip install pytesseract"
      ],
      "metadata": {
        "colab": {
          "base_uri": "https://localhost:8080/"
        },
        "id": "cEH7brcff9_R",
        "outputId": "61e20f2e-2de2-4183-e984-58bae8a40ea4"
      },
      "execution_count": 18,
      "outputs": [
        {
          "output_type": "stream",
          "name": "stdout",
          "text": [
            "Reading package lists... Done\n",
            "Building dependency tree... Done\n",
            "Reading state information... Done\n",
            "The following additional packages will be installed:\n",
            "  tesseract-ocr-eng tesseract-ocr-osd\n",
            "The following NEW packages will be installed:\n",
            "  tesseract-ocr tesseract-ocr-eng tesseract-ocr-osd\n",
            "0 upgraded, 3 newly installed, 0 to remove and 35 not upgraded.\n",
            "Need to get 4,816 kB of archives.\n",
            "After this operation, 15.6 MB of additional disk space will be used.\n",
            "Get:1 http://archive.ubuntu.com/ubuntu jammy/universe amd64 tesseract-ocr-eng all 1:4.00~git30-7274cfa-1.1 [1,591 kB]\n",
            "Get:2 http://archive.ubuntu.com/ubuntu jammy/universe amd64 tesseract-ocr-osd all 1:4.00~git30-7274cfa-1.1 [2,990 kB]\n",
            "Get:3 http://archive.ubuntu.com/ubuntu jammy/universe amd64 tesseract-ocr amd64 4.1.1-2.1build1 [236 kB]\n",
            "Fetched 4,816 kB in 0s (26.6 MB/s)\n",
            "debconf: unable to initialize frontend: Dialog\n",
            "debconf: (No usable dialog-like program is installed, so the dialog based frontend cannot be used. at /usr/share/perl5/Debconf/FrontEnd/Dialog.pm line 78, <> line 3.)\n",
            "debconf: falling back to frontend: Readline\n",
            "debconf: unable to initialize frontend: Readline\n",
            "debconf: (This frontend requires a controlling tty.)\n",
            "debconf: falling back to frontend: Teletype\n",
            "dpkg-preconfigure: unable to re-open stdin: \n",
            "Selecting previously unselected package tesseract-ocr-eng.\n",
            "(Reading database ... 121749 files and directories currently installed.)\n",
            "Preparing to unpack .../tesseract-ocr-eng_1%3a4.00~git30-7274cfa-1.1_all.deb ...\n",
            "Unpacking tesseract-ocr-eng (1:4.00~git30-7274cfa-1.1) ...\n",
            "Selecting previously unselected package tesseract-ocr-osd.\n",
            "Preparing to unpack .../tesseract-ocr-osd_1%3a4.00~git30-7274cfa-1.1_all.deb ...\n",
            "Unpacking tesseract-ocr-osd (1:4.00~git30-7274cfa-1.1) ...\n",
            "Selecting previously unselected package tesseract-ocr.\n",
            "Preparing to unpack .../tesseract-ocr_4.1.1-2.1build1_amd64.deb ...\n",
            "Unpacking tesseract-ocr (4.1.1-2.1build1) ...\n",
            "Setting up tesseract-ocr-eng (1:4.00~git30-7274cfa-1.1) ...\n",
            "Setting up tesseract-ocr-osd (1:4.00~git30-7274cfa-1.1) ...\n",
            "Setting up tesseract-ocr (4.1.1-2.1build1) ...\n",
            "Processing triggers for man-db (2.10.2-1) ...\n",
            "Collecting pytesseract\n",
            "  Downloading pytesseract-0.3.10-py3-none-any.whl (14 kB)\n",
            "Requirement already satisfied: packaging>=21.3 in /usr/local/lib/python3.10/dist-packages (from pytesseract) (23.2)\n",
            "Requirement already satisfied: Pillow>=8.0.0 in /usr/local/lib/python3.10/dist-packages (from pytesseract) (9.4.0)\n",
            "Installing collected packages: pytesseract\n",
            "Successfully installed pytesseract-0.3.10\n"
          ]
        }
      ]
    },
    {
      "cell_type": "code",
      "source": [
        "# taking first page of first chapter of book named MONK WHO SOLD HIS FERRARI\n",
        "image_path_in_colab=\"CLear_plane_text.png\"\n",
        "GT= \"CHAPTER ONE The Wake-Up Call He collapsed right in the middle of a packed courtroom. He was one of this country's most distinguished trial lawyers. He was also a man who was as well known for the three-thousand-dollar Italian suits which draped his well-fed frame as for his remarkable string of legal victories. I simply stood there, paralyzed by the shock of what I had just witnessed. The great Julian Mantle had been reduced to a victim and was now squirming on the ground like a helpless infant, shaking and shivering and sweating like a maniac. Everything seemed to move in slow motion from that point on.\""
      ],
      "metadata": {
        "id": "z4ldoiGVjsKK"
      },
      "execution_count": 19,
      "outputs": []
    },
    {
      "cell_type": "code",
      "source": [
        "import pytesseract\n",
        "teserract_extractedInformation = pytesseract.image_to_string(Image.open(image_path_in_colab))\n",
        "teserract_extractedInformation = teserract_extractedInformation.replace('\\n', ' ')\n",
        "print(teserract_extractedInformation)\n",
        "#print(pytesseract.image_to_boxes(Image.open(image_path_in_colab)))\n",
        "get_the_error_rate(GT, teserract_extractedInformation)\n"
      ],
      "metadata": {
        "colab": {
          "base_uri": "https://localhost:8080/"
        },
        "id": "cY3H7jK4hUre",
        "outputId": "6d534dfa-1482-453d-823c-52c6f37b1530"
      },
      "execution_count": 53,
      "outputs": [
        {
          "output_type": "stream",
          "name": "stdout",
          "text": [
            "CHAPTER ONE  The Wake-Up Call  He collapsed right in the middle of a packed courtroom. He was one of this country's most distinguished trial lawyers. He was also a man who was as well known for the three-thousand-dollar Italian suits which draped his well-fed frame as for his remarkable string of legal victories. I simply stood there, paralyzed by the shock of what I had just witnessed. The great Julian Mantle had been reduced to a victim and was now squirming on the ground like a helpless in- fant, shaking and shivering and sweating like a maniac. Everything seemed to move in slow motion from that point on. \f\n",
            "Word_Error_Rate:  0.018691588785046728\n",
            "Char_Error_Rate:  0.006546644844517185\n"
          ]
        }
      ]
    },
    {
      "cell_type": "code",
      "source": [
        "#Detect Langauge other than English\n",
        "#French text image to string\n",
        "#extractedInformation = pytesseract.image_to_string(Image.open('test-european.jpg'), lang='fra')\n",
        "#print(extractedInformation)\n",
        "#Specifying language in the above function by lang argument we can change the language text to be detected."
      ],
      "metadata": {
        "id": "vUYttXZym0lk"
      },
      "execution_count": 21,
      "outputs": []
    },
    {
      "cell_type": "code",
      "source": [
        "# IT considered the special symbols,\n",
        "# it is case sensitive as well\n",
        "# extracts whole para at once"
      ],
      "metadata": {
        "id": "elX2FhkvkDaX"
      },
      "execution_count": 23,
      "outputs": []
    },
    {
      "cell_type": "markdown",
      "source": [
        "#KERAS OCR\n"
      ],
      "metadata": {
        "id": "RQHUUO0LrtW7"
      }
    },
    {
      "cell_type": "code",
      "source": [
        "!pip install keras-ocr -q"
      ],
      "metadata": {
        "id": "VdsGbuGMrveU"
      },
      "execution_count": 54,
      "outputs": []
    },
    {
      "cell_type": "code",
      "source": [
        "import keras_ocr\n",
        "pipeline = keras_ocr.pipeline.Pipeline()"
      ],
      "metadata": {
        "colab": {
          "base_uri": "https://localhost:8080/"
        },
        "id": "AYj6nH3arztc",
        "outputId": "9c7c261b-aac9-4c09-c83f-9c276e0b1579"
      },
      "execution_count": 55,
      "outputs": [
        {
          "output_type": "stream",
          "name": "stdout",
          "text": [
            "Looking for /root/.keras-ocr/craft_mlt_25k.h5\n",
            "Looking for /root/.keras-ocr/crnn_kurapan.h5\n"
          ]
        }
      ]
    },
    {
      "cell_type": "code",
      "source": [
        "keras_results = pipeline.recognize([image_path_in_colab])\n",
        "# Takes comparitvely longer time"
      ],
      "metadata": {
        "colab": {
          "base_uri": "https://localhost:8080/"
        },
        "id": "Wjokrzher5uq",
        "outputId": "522d19eb-30f7-4f60-fcf9-cec50170258c"
      },
      "execution_count": 56,
      "outputs": [
        {
          "output_type": "stream",
          "name": "stdout",
          "text": [
            "1/1 [==============================] - 72s 72s/step\n",
            "4/4 [==============================] - 26s 6s/step\n"
          ]
        }
      ]
    },
    {
      "cell_type": "code",
      "source": [
        "keras_result_string = \"\"\n",
        "for ele in keras_results[0]:\n",
        "   keras_result_string = keras_result_string+\" \"+ ele[0]\n",
        "keras_result_string\n",
        "\n",
        "\n",
        "\n",
        "get_the_error_rate(GT.lower(), keras_result_string.lower())\n",
        "# Case sensitivity is lost\n",
        "# new lines is not detected\n",
        "# Does not consider the special chars and punctuations"
      ],
      "metadata": {
        "colab": {
          "base_uri": "https://localhost:8080/"
        },
        "id": "TBWFdqA0sXTs",
        "outputId": "440c5082-d580-4a5b-f28e-544117cc71d4"
      },
      "execution_count": 58,
      "outputs": [
        {
          "output_type": "stream",
          "name": "stdout",
          "text": [
            "Word_Error_Rate:  0.6635514018691588\n",
            "Char_Error_Rate:  0.46808510638297873\n"
          ]
        }
      ]
    },
    {
      "cell_type": "code",
      "source": [
        "# plotting on image\n",
        "#fig, ax = plt.subplots(figsize=(10, 10))\n",
        "#keras_ocr.tools.drawAnnotations(plt.imread(image_path_in_colab), keras_results[0], ax=ax)\n",
        "#ax.set_title('Keras OCR Result Example')\n",
        "#plt.show()"
      ],
      "metadata": {
        "id": "yErRaCK-scT2"
      },
      "execution_count": 59,
      "outputs": []
    },
    {
      "cell_type": "markdown",
      "source": [
        "#EASY OCR"
      ],
      "metadata": {
        "id": "nY23hPkC6EJY"
      }
    },
    {
      "cell_type": "code",
      "source": [
        "#https://medium.com/@adityamahajan.work/easyocr-a-comprehensive-guide-5ff1cb850168"
      ],
      "metadata": {
        "id": "y-FeLSyJ6Fqp"
      },
      "execution_count": null,
      "outputs": []
    },
    {
      "cell_type": "code",
      "source": [
        "pip install easyocr"
      ],
      "metadata": {
        "colab": {
          "base_uri": "https://localhost:8080/"
        },
        "id": "OSmPtyBL7BWv",
        "outputId": "dd761f57-2b59-4e30-e70f-15929c843a1a"
      },
      "execution_count": 60,
      "outputs": [
        {
          "output_type": "stream",
          "name": "stdout",
          "text": [
            "Requirement already satisfied: easyocr in /usr/local/lib/python3.10/dist-packages (1.7.1)\n",
            "Requirement already satisfied: torch in /usr/local/lib/python3.10/dist-packages (from easyocr) (2.1.0+cu121)\n",
            "Requirement already satisfied: torchvision>=0.5 in /usr/local/lib/python3.10/dist-packages (from easyocr) (0.16.0+cu121)\n",
            "Requirement already satisfied: opencv-python-headless in /usr/local/lib/python3.10/dist-packages (from easyocr) (4.9.0.80)\n",
            "Requirement already satisfied: scipy in /usr/local/lib/python3.10/dist-packages (from easyocr) (1.11.4)\n",
            "Requirement already satisfied: numpy in /usr/local/lib/python3.10/dist-packages (from easyocr) (1.25.2)\n",
            "Requirement already satisfied: Pillow in /usr/local/lib/python3.10/dist-packages (from easyocr) (9.4.0)\n",
            "Requirement already satisfied: scikit-image in /usr/local/lib/python3.10/dist-packages (from easyocr) (0.19.3)\n",
            "Requirement already satisfied: python-bidi in /usr/local/lib/python3.10/dist-packages (from easyocr) (0.4.2)\n",
            "Requirement already satisfied: PyYAML in /usr/local/lib/python3.10/dist-packages (from easyocr) (6.0.1)\n",
            "Requirement already satisfied: Shapely in /usr/local/lib/python3.10/dist-packages (from easyocr) (2.0.3)\n",
            "Requirement already satisfied: pyclipper in /usr/local/lib/python3.10/dist-packages (from easyocr) (1.3.0.post5)\n",
            "Requirement already satisfied: ninja in /usr/local/lib/python3.10/dist-packages (from easyocr) (1.11.1.1)\n",
            "Requirement already satisfied: requests in /usr/local/lib/python3.10/dist-packages (from torchvision>=0.5->easyocr) (2.31.0)\n",
            "Requirement already satisfied: filelock in /usr/local/lib/python3.10/dist-packages (from torch->easyocr) (3.13.1)\n",
            "Requirement already satisfied: typing-extensions in /usr/local/lib/python3.10/dist-packages (from torch->easyocr) (4.9.0)\n",
            "Requirement already satisfied: sympy in /usr/local/lib/python3.10/dist-packages (from torch->easyocr) (1.12)\n",
            "Requirement already satisfied: networkx in /usr/local/lib/python3.10/dist-packages (from torch->easyocr) (3.2.1)\n",
            "Requirement already satisfied: jinja2 in /usr/local/lib/python3.10/dist-packages (from torch->easyocr) (3.1.3)\n",
            "Requirement already satisfied: fsspec in /usr/local/lib/python3.10/dist-packages (from torch->easyocr) (2023.6.0)\n",
            "Requirement already satisfied: triton==2.1.0 in /usr/local/lib/python3.10/dist-packages (from torch->easyocr) (2.1.0)\n",
            "Requirement already satisfied: six in /usr/local/lib/python3.10/dist-packages (from python-bidi->easyocr) (1.16.0)\n",
            "Requirement already satisfied: imageio>=2.4.1 in /usr/local/lib/python3.10/dist-packages (from scikit-image->easyocr) (2.31.6)\n",
            "Requirement already satisfied: tifffile>=2019.7.26 in /usr/local/lib/python3.10/dist-packages (from scikit-image->easyocr) (2024.2.12)\n",
            "Requirement already satisfied: PyWavelets>=1.1.1 in /usr/local/lib/python3.10/dist-packages (from scikit-image->easyocr) (1.5.0)\n",
            "Requirement already satisfied: packaging>=20.0 in /usr/local/lib/python3.10/dist-packages (from scikit-image->easyocr) (23.2)\n",
            "Requirement already satisfied: MarkupSafe>=2.0 in /usr/local/lib/python3.10/dist-packages (from jinja2->torch->easyocr) (2.1.5)\n",
            "Requirement already satisfied: charset-normalizer<4,>=2 in /usr/local/lib/python3.10/dist-packages (from requests->torchvision>=0.5->easyocr) (3.3.2)\n",
            "Requirement already satisfied: idna<4,>=2.5 in /usr/local/lib/python3.10/dist-packages (from requests->torchvision>=0.5->easyocr) (3.6)\n",
            "Requirement already satisfied: urllib3<3,>=1.21.1 in /usr/local/lib/python3.10/dist-packages (from requests->torchvision>=0.5->easyocr) (2.0.7)\n",
            "Requirement already satisfied: certifi>=2017.4.17 in /usr/local/lib/python3.10/dist-packages (from requests->torchvision>=0.5->easyocr) (2024.2.2)\n",
            "Requirement already satisfied: mpmath>=0.19 in /usr/local/lib/python3.10/dist-packages (from sympy->torch->easyocr) (1.3.0)\n"
          ]
        }
      ]
    },
    {
      "cell_type": "markdown",
      "source": [
        "### EasyOCR supports multiple languages, and you can install language models for the specific languages you need.\n",
        "### By default, English (en) is installed. You can add additional languages with — model_dir or specify them in your code when initializing the EasyOCR reader.\n",
        "\n",
        "### For example, to install Chinese (chinese), you can use:\n",
        "\n",
        "### pip install easyocr[chinese]"
      ],
      "metadata": {
        "id": "MkklOtbf7c6R"
      }
    },
    {
      "cell_type": "code",
      "source": [
        "import easyocr\n",
        "reader = easyocr.Reader(['en', 'es'])"
      ],
      "metadata": {
        "colab": {
          "base_uri": "https://localhost:8080/"
        },
        "id": "mE9fR8V37dgv",
        "outputId": "450391ef-f0ae-4dd1-a4f0-8b864da46318"
      },
      "execution_count": 61,
      "outputs": [
        {
          "output_type": "stream",
          "name": "stderr",
          "text": [
            "WARNING:easyocr.easyocr:Neither CUDA nor MPS are available - defaulting to CPU. Note: This module is much faster with a GPU.\n"
          ]
        }
      ]
    },
    {
      "cell_type": "code",
      "source": [
        "result = reader.readtext('CLear_plane_text.png')\n",
        "easy_ocr_result =\"\"\n",
        "for (bbox, text, prob) in result:\n",
        "    print(f'Text: {text}, Probability: {prob}')\n",
        "    easy_ocr_result = easy_ocr_result+ \" \"+text\n",
        "\n",
        "print(easy_ocr_result)\n",
        "\n",
        "\n",
        "# Predicts whole sentence at a time\n",
        "# sepcial characters are also detected\n",
        "# It is case sensitive\n",
        "# provides confidence too.\n"
      ],
      "metadata": {
        "colab": {
          "base_uri": "https://localhost:8080/"
        },
        "id": "VBQVdbl27pre",
        "outputId": "3a2d200c-7437-4896-c6a4-e095a59f2649"
      },
      "execution_count": 62,
      "outputs": [
        {
          "output_type": "stream",
          "name": "stdout",
          "text": [
            "Text: CHAPTER ONE, Probability: 0.9996609922693979\n",
            "Text: The, Probability: 0.9999966275505067\n",
            "Text: Wake-Up Call, Probability: 0.8922247776755114\n",
            "Text: He collapsed right in the middle of a packed courtroom, Probability: 0.8505280033475713\n",
            "Text: He was, Probability: 0.8326756062072918\n",
            "Text: one of this country's most distinguished trial lawyers. He was also, Probability: 0.7098537025675996\n",
            "Text: a man who was as well known for the three-thousand-dollar Italian, Probability: 0.8512415849831441\n",
            "Text: suits which draped his well-fed frame as for his remarkable string of, Probability: 0.9649109257127211\n",
            "Text: legal victories. I simply stood there, paralyzed by the shock of what, Probability: 0.6990867936244344\n",
            "Text: I had just witnessed. The great Julian Mantle had been reduced to, Probability: 0.7305077276603591\n",
            "Text: victim and was now squirming on the ground like a helpless in-, Probability: 0.7558465844684332\n",
            "Text: fant; shaking and shivering and sweating like a maniac. Everything, Probability: 0.6982600633730343\n",
            "Text: seemed to move in slow motion from that point on, Probability: 0.7758335965222916\n",
            " CHAPTER ONE The Wake-Up Call He collapsed right in the middle of a packed courtroom He was one of this country's most distinguished trial lawyers. He was also a man who was as well known for the three-thousand-dollar Italian suits which draped his well-fed frame as for his remarkable string of legal victories. I simply stood there, paralyzed by the shock of what I had just witnessed. The great Julian Mantle had been reduced to victim and was now squirming on the ground like a helpless in- fant; shaking and shivering and sweating like a maniac. Everything seemed to move in slow motion from that point on\n"
          ]
        }
      ]
    },
    {
      "cell_type": "code",
      "source": [
        "get_the_error_rate(GT, easy_ocr_result)"
      ],
      "metadata": {
        "colab": {
          "base_uri": "https://localhost:8080/"
        },
        "id": "abNrRPzu74J_",
        "outputId": "af0467b5-a9b1-4d53-e652-ba3ca847db8c"
      },
      "execution_count": 63,
      "outputs": [
        {
          "output_type": "stream",
          "name": "stdout",
          "text": [
            "Word_Error_Rate:  0.04672897196261682\n",
            "Char_Error_Rate:  0.011456628477905073\n"
          ]
        }
      ]
    },
    {
      "cell_type": "code",
      "source": [],
      "metadata": {
        "id": "tPBV95kU8y-4"
      },
      "execution_count": null,
      "outputs": []
    }
  ]
}